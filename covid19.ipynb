{
 "cells": [
  {
   "cell_type": "code",
   "execution_count": 23,
   "metadata": {},
   "outputs": [],
   "source": [
    "import cv2\n",
    "import os\n",
    "import glob\n",
    "\n"
   ]
  },
  {
   "cell_type": "code",
   "execution_count": 24,
   "metadata": {},
   "outputs": [
    {
     "name": "stdout",
     "output_type": "stream",
     "text": [
      "945\n",
      "945\n",
      "945\n"
     ]
    }
   ],
   "source": [
    "#download the data from kaggle.com- COVID-19 Radiography Database\n",
    "#loading viral normal data in training set\n",
    "#label used- covid19=1, viral=2, normal=0\n",
    " \n",
    "#later i change it before training\n",
    "\n",
    "img_dir=\".\\COVID-19 Radiography Database\\COVID-19n\"\n",
    "data_path=os.path.join(img_dir,'*.png')\n",
    "files=glob.glob(data_path)\n",
    "train_data=[]\n",
    "train_label=[]\n",
    "i=0\n",
    "for f1 in files:\n",
    "    img= cv2.imread(f1)\n",
    "    img= cv2.resize(img,(256, 256), interpolation= cv2.INTER_AREA)\n",
    "    img = cv2.cvtColor(img, cv2.COLOR_BGR2GRAY)\n",
    "    train_data.append(img)\n",
    "    train_label.append(0)\n",
    "    i=i+1\n",
    "print(len(train_data))\n",
    "print(len(train_label))\n",
    "print(i)"
   ]
  },
  {
   "cell_type": "code",
   "execution_count": 25,
   "metadata": {},
   "outputs": [
    {
     "name": "stdout",
     "output_type": "stream",
     "text": [
      "1881\n",
      "1881\n",
      "936\n"
     ]
    }
   ],
   "source": [
    "#label used- covid19=1, viral=2, normal=3\n",
    "#loading Viral Pneumonia data in training set\n",
    "img_dir=\".\\COVID-19 Radiography Database\\Viral Pneumonia\"\n",
    "data_path=os.path.join(img_dir,'*.png')\n",
    "files=glob.glob(data_path)\n",
    "  \n",
    "i=0\n",
    "for f1 in files:\n",
    "    img= cv2.imread(f1)\n",
    "    img= cv2.resize(img,(256, 256), interpolation= cv2.INTER_AREA)\n",
    "    img = cv2.cvtColor(img, cv2.COLOR_BGR2GRAY)\n",
    "    train_data.append(img)\n",
    "    train_label.append(2)\n",
    "    i=i+1\n",
    "print(len(train_data))\n",
    "print(len(train_label))\n",
    "print(i)"
   ]
  },
  {
   "cell_type": "code",
   "execution_count": 26,
   "metadata": {},
   "outputs": [
    {
     "name": "stdout",
     "output_type": "stream",
     "text": [
      "2037\n",
      "2037\n"
     ]
    }
   ],
   "source": [
    "#loading covid19 data in training set\n",
    "img_dir=\".\\COVID-19 Radiography Database\\COVID-19c\"\n",
    "data_path=os.path.join(img_dir,'*.png')\n",
    "files=glob.glob(data_path)\n",
    "for f1 in files:\n",
    "    img= cv2.imread(f1)\n",
    "    img= cv2.resize(img,(256, 256), interpolation= cv2.INTER_AREA)\n",
    "    img = cv2.cvtColor(img, cv2.COLOR_BGR2GRAY)\n",
    "    train_data.append(img)\n",
    "    train_label.append(1)\n",
    "print(len(train_data))\n",
    "print(len(train_label))"
   ]
  },
  {
   "cell_type": "code",
   "execution_count": null,
   "metadata": {},
   "outputs": [],
   "source": []
  },
  {
   "cell_type": "code",
   "execution_count": 27,
   "metadata": {},
   "outputs": [
    {
     "data": {
      "text/plain": [
       "'import csv\\nwith open(\"D:\\\\m.tech\\\\datasets\\\\covid_traindata.csv\", \\'w\\', newline=\\'\\') as myfile:\\n    writer=csv.writer(myfile, quoting=csv.QUOTE_NONNUMERIC)\\n    writer.writerows(train_data)\\n'"
      ]
     },
     "execution_count": 27,
     "metadata": {},
     "output_type": "execute_result"
    }
   ],
   "source": [
    "#saving training images as csv\n",
    "\"\"\"import csv\n",
    "with open(\"D:\\m.tech\\datasets\\covid_traindata.csv\", 'w', newline='') as myfile:\n",
    "    writer=csv.writer(myfile, quoting=csv.QUOTE_NONNUMERIC)\n",
    "    writer.writerows(train_data)\n",
    "\"\"\"\n"
   ]
  },
  {
   "cell_type": "code",
   "execution_count": 28,
   "metadata": {},
   "outputs": [
    {
     "data": {
      "text/plain": [
       "'with open(\"D:\\\\m.tech\\\\datasets\\\\myfile.csv\", \\'w\\', newline=\\'\\') as myfile:\\n    writer=csv.writer(myfile, quoting=csv.QUOTE_ALL)\\n    writer.writerow(train_label)'"
      ]
     },
     "execution_count": 28,
     "metadata": {},
     "output_type": "execute_result"
    }
   ],
   "source": [
    "#saving training labels as csv, change your filename (from myfile.scv) as you want\n",
    "\"\"\"with open(\"D:\\m.tech\\datasets\\myfile.csv\", 'w', newline='') as myfile:\n",
    "    writer=csv.writer(myfile, quoting=csv.QUOTE_ALL)\n",
    "    writer.writerow(train_label)\"\"\"\n"
   ]
  },
  {
   "cell_type": "code",
   "execution_count": 29,
   "metadata": {},
   "outputs": [
    {
     "name": "stdout",
     "output_type": "stream",
     "text": [
      "63\n",
      "63\n"
     ]
    }
   ],
   "source": [
    "#loading covid19 data for testing set\n",
    "#label used- covid19=1, viral=2, normal=0\n",
    "img_dir=\".\\COVID-19 Radiography Database\\covid19_test\"\n",
    "data_path=os.path.join(img_dir,'*.png')\n",
    "files1=glob.glob(data_path)\n",
    "test_label=[]\n",
    "test_data=[]\n",
    "for f1 in files1:\n",
    "    img= cv2.imread(f1)\n",
    "    img= cv2.resize(img,(256, 256), interpolation= cv2.INTER_AREA)\n",
    "    img = cv2.cvtColor(img, cv2.COLOR_BGR2GRAY)\n",
    "    test_data.append(img)\n",
    "    test_label.append(1)\n",
    "print(len(test_data))\n",
    "print(len(test_label))"
   ]
  },
  {
   "cell_type": "code",
   "execution_count": 30,
   "metadata": {},
   "outputs": [
    {
     "name": "stdout",
     "output_type": "stream",
     "text": [
      "472\n",
      "472\n"
     ]
    }
   ],
   "source": [
    "#loading viral Pneumonia data in testing set\n",
    "#label used- covid19=1, viral=2, normal=0\n",
    "img_dir=\".\\COVID-19 Radiography Database\\c_test_viral\"\n",
    "data_path=os.path.join(img_dir,'*g')\n",
    "files1=glob.glob(data_path)\n",
    "\n",
    "for f1 in files1:\n",
    "    img= cv2.imread(f1)\n",
    "    img= cv2.resize(img,(256, 256), interpolation= cv2.INTER_AREA)\n",
    "    img = cv2.cvtColor(img, cv2.COLOR_BGR2GRAY)\n",
    "    test_data.append(img)\n",
    "    test_label.append(2)\n",
    "print(len(test_data))\n",
    "print(len(test_label))"
   ]
  },
  {
   "cell_type": "code",
   "execution_count": 31,
   "metadata": {},
   "outputs": [
    {
     "name": "stdout",
     "output_type": "stream",
     "text": [
      "868\n",
      "868\n"
     ]
    }
   ],
   "source": [
    "#loading normal data in testing set\n",
    "#label used- covid19=1, viral=2, normal=0\n",
    "img_dir=\".\\COVID-19 Radiography Database\\c_normal_testset\"\n",
    "data_path=os.path.join(img_dir,'*g')\n",
    "files1=glob.glob(data_path)\n",
    "\n",
    "for f1 in files1:\n",
    "    img= cv2.imread(f1)\n",
    "    img= cv2.resize(img,(256, 256), interpolation= cv2.INTER_AREA)\n",
    "    img = cv2.cvtColor(img, cv2.COLOR_BGR2GRAY)\n",
    "    test_data.append(img)\n",
    "    test_label.append(0)\n",
    "print(len(test_data))\n",
    "print(len(test_label))"
   ]
  },
  {
   "cell_type": "code",
   "execution_count": 32,
   "metadata": {},
   "outputs": [
    {
     "data": {
      "text/plain": [
       "'import csv\\nwith open(\"D:\\\\m.tech\\\\datasets\\\\covid_testdata.csv\", \\'w\\', newline=\\'\\') as myfile:\\n    writer=csv.writer(myfile, quoting=csv.QUOTE_NONNUMERIC)\\n    writer.writerows(test_data)\\n'"
      ]
     },
     "execution_count": 32,
     "metadata": {},
     "output_type": "execute_result"
    }
   ],
   "source": [
    "#saving testing images as csv\n",
    "\"\"\"import csv\n",
    "with open(\"D:\\m.tech\\datasets\\covid_testdata.csv\", 'w', newline='') as myfile:\n",
    "    writer=csv.writer(myfile, quoting=csv.QUOTE_NONNUMERIC)\n",
    "    writer.writerows(test_data)\n",
    "\"\"\"\n"
   ]
  },
  {
   "cell_type": "code",
   "execution_count": 33,
   "metadata": {},
   "outputs": [
    {
     "data": {
      "text/plain": [
       "'import csv\\nwith open(\"D:\\\\m.tech\\\\datasets\\\\covid_testlabel.csv\", \\'w\\', newline=\\'\\') as myfile1:\\n    writer=csv.writer(myfile1)\\n    writer.writerow(test_label)'"
      ]
     },
     "execution_count": 33,
     "metadata": {},
     "output_type": "execute_result"
    }
   ],
   "source": [
    "#saving testing labels as csv\n",
    "\"\"\"import csv\n",
    "with open(\"D:\\m.tech\\datasets\\covid_testlabel.csv\", 'w', newline='') as myfile1:\n",
    "    writer=csv.writer(myfile1)\n",
    "    writer.writerow(test_label)\"\"\"\n"
   ]
  },
  {
   "cell_type": "code",
   "execution_count": 34,
   "metadata": {},
   "outputs": [
    {
     "name": "stdout",
     "output_type": "stream",
     "text": [
      "fitted!\n",
      "1\n",
      "1\n"
     ]
    }
   ],
   "source": [
    "# creating some more covid19 data (pictures) from availabel data \n",
    "import numpy as np\n",
    "from keras.preprocessing.image import ImageDataGenerator\n",
    "image_generator = ImageDataGenerator(\n",
    "            rotation_range=10,\n",
    "            zoom_range = 0.05, \n",
    "            width_shift_range=0.05,\n",
    "            height_shift_range=0.05,\n",
    "            horizontal_flip=False,\n",
    "            vertical_flip=False, \n",
    "            data_format=\"channels_last\")\n",
    "\n",
    "#loading covid19 data in X_new to augment training set\n",
    "img_dir=\".\\COVID-19 Radiography Database\\COVID-19c\"\n",
    "data_path=os.path.join(img_dir,'*.png')\n",
    "files=glob.glob(data_path)\n",
    "x_new=[]\n",
    "y_new=[]\n",
    "\n",
    "for f1 in files:\n",
    "    img= cv2.imread(f1)\n",
    "    img= cv2.resize(img,(256, 256), interpolation= cv2.INTER_AREA)\n",
    "    img = cv2.cvtColor(img, cv2.COLOR_BGR2GRAY)\n",
    "    x_new.append(img)\n",
    "    label = np.zeros(3)\n",
    "    y_new.append(label)\n",
    "    \n",
    "x_new=np.array(x_new)\n",
    "y_new=np.array(y_new)\n",
    "x_new=np.reshape(x_new,(156,256,256,1))\n",
    "\n",
    "image_generator.fit(x_new, augment=True)\n",
    "print('fitted!')\n",
    "augment_size=156\n",
    "train_size = x_new.shape[0]\n",
    "\n",
    "x_aug=[]\n",
    "y_aug=[]\n",
    "\n",
    "randidx = np.random.randint(train_size, size=augment_size)\n",
    "x_augmented = x_new[randidx]\n",
    "y_augmented = y_new[randidx]\n",
    "x_augmented = image_generator.flow(x_augmented, np.zeros(augment_size),batch_size=augment_size, shuffle=False).next()[0]\n",
    "# append augment data to trainset\n",
    "x_aug.append(x_augmented)\n",
    "y_aug.append(y_augmented)\n",
    "    \n",
    "print(len(x_aug))\n",
    "print(len(y_aug))"
   ]
  },
  {
   "cell_type": "code",
   "execution_count": 35,
   "metadata": {},
   "outputs": [
    {
     "name": "stdout",
     "output_type": "stream",
     "text": [
      "(156, 256, 256)\n",
      "(1, 156, 3)\n"
     ]
    }
   ],
   "source": [
    "x_aug=np.array(x_aug)\n",
    "x_aug=np.reshape(x_aug,(156,256,256))\n",
    "y_aug=np.array(y_aug)\n",
    "print(x_aug.shape)\n",
    "print(y_aug.shape) # but we just need a row of 156 1's for labels"
   ]
  },
  {
   "cell_type": "code",
   "execution_count": 36,
   "metadata": {},
   "outputs": [
    {
     "data": {
      "image/png": "[encoded data removed]",
      "text/plain": [
       "<Figure size 432x288 with 2 Axes>"
      ]
     },
     "metadata": {
      "needs_background": "light"
     },
     "output_type": "display_data"
    }
   ],
   "source": [
    "import matplotlib.pyplot as plt\n",
    "#checking the augmented images\n",
    "plt.figure()\n",
    "plt.imshow(x_aug[16])\n",
    "plt.colorbar()\n",
    "plt.grid(False)\n",
    "plt.axis('off')\n",
    "plt.show()"
   ]
  },
  {
   "cell_type": "code",
   "execution_count": 37,
   "metadata": {},
   "outputs": [
    {
     "name": "stdout",
     "output_type": "stream",
     "text": [
      "(2037, 256, 256)\n",
      "(868, 256, 256)\n",
      "(2037,)\n",
      "(868,)\n",
      "(156, 256, 256)\n",
      "(156,)\n"
     ]
    }
   ],
   "source": [
    "import numpy as np\n",
    "# converting all lists to numpy array\n",
    "train_data=np.array(train_data)\n",
    "train_label=np.array(train_label)\n",
    "test_data=np.array(test_data)\n",
    "test_label=np.array(test_label)\n",
    "y_aug=[]\n",
    "\n",
    "for i in range(156):\n",
    "    y_aug.append(1)\n",
    "\n",
    "y_aug=np.array(y_aug)    \n",
    "\n",
    "print(train_data.shape)\n",
    "print(test_data.shape)\n",
    "print(train_label.shape)\n",
    "print(test_label.shape)\n",
    "print(x_aug.shape)\n",
    "print(y_aug.shape)"
   ]
  },
  {
   "cell_type": "code",
   "execution_count": 38,
   "metadata": {},
   "outputs": [
    {
     "name": "stdout",
     "output_type": "stream",
     "text": [
      "(2193, 256, 256)\n",
      "(2193, 256, 256, 1)\n",
      "(868, 256, 256, 1)\n"
     ]
    }
   ],
   "source": [
    "\n",
    "#concatenating the augmentaed data to training set\n",
    "train_data=np.concatenate((train_data, x_aug), axis=0)\n",
    "train_label=np.concatenate((train_label, y_aug), axis=0)\n",
    "#train_data=np.vstack(train_data, x_aug)\n",
    "#train_label=np.vstack(train_label, y_aug)\n",
    "\n",
    "\n",
    "print(train_data.shape)\n",
    "train_data=np.reshape(train_data,(2193,256,256,1))\n",
    "test_data=np.reshape(test_data,(868,256,256,1))\n",
    "print(train_data.shape)\n",
    "print(test_data.shape)"
   ]
  },
  {
   "cell_type": "code",
   "execution_count": 43,
   "metadata": {},
   "outputs": [],
   "source": [
    "\"\"\"\n",
    "ctrain_data=[]\n",
    "ctest_data=[]\n",
    "ctrain_data=train_data\n",
    "ctest_data=test_data\n",
    "\n",
    "import csv\n",
    "with open(\"D:\\m.tech\\datasets\\covid19_traindata.csv\", 'w', newline='') as myfile:\n",
    "    writer=csv.writer(myfile, quoting=csv.QUOTE_NONNUMERIC)\n",
    "    writer.writerows(ctrain_data)\n",
    "    \n",
    "\n",
    "with open(\"D:\\m.tech\\datasets\\covid19_testdata.csv\", 'w', newline='') as myfile:\n",
    "    writer=csv.writer(myfile, quoting=csv.QUOTE_NONNUMERIC)\n",
    "    writer.writerows(ctest_data)\n",
    "\"\"\"\n"
   ]
  },
  {
   "cell_type": "code",
   "execution_count": 45,
   "metadata": {},
   "outputs": [
    {
     "name": "stdout",
     "output_type": "stream",
     "text": [
      "(2193, 256, 256, 1)\n",
      "(868, 256, 256, 1)\n"
     ]
    }
   ],
   "source": [
    "train_data=train_data/255\n",
    "test_data=test_data/255\n",
    "print(train_data.shape)\n",
    "print(test_data.shape)"
   ]
  },
  {
   "cell_type": "code",
   "execution_count": 46,
   "metadata": {},
   "outputs": [],
   "source": [
    "from tensorflow import keras\n",
    "from tensorflow.keras.models import Sequential\n",
    "from tensorflow.keras.layers import Dense, Dropout, Flatten\n",
    "from tensorflow.keras.layers import Conv2D, MaxPooling2D, BatchNormalization\n"
   ]
  },
  {
   "cell_type": "code",
   "execution_count": 47,
   "metadata": {},
   "outputs": [
    {
     "name": "stdout",
     "output_type": "stream",
     "text": [
      "WARNING:tensorflow:From C:\\New folder\\envs\\py36\\lib\\site-packages\\tensorflow\\python\\ops\\resource_variable_ops.py:435: colocate_with (from tensorflow.python.framework.ops) is deprecated and will be removed in a future version.\n",
      "Instructions for updating:\n",
      "Colocations handled automatically by placer.\n",
      "WARNING:tensorflow:From C:\\New folder\\envs\\py36\\lib\\site-packages\\tensorflow\\python\\keras\\layers\\core.py:143: calling dropout (from tensorflow.python.ops.nn_ops) with keep_prob is deprecated and will be removed in a future version.\n",
      "Instructions for updating:\n",
      "Please use `rate` instead of `keep_prob`. Rate should be set to `rate = 1 - keep_prob`.\n",
      "_________________________________________________________________\n",
      "Layer (type)                 Output Shape              Param #   \n",
      "=================================================================\n",
      "conv2d (Conv2D)              (None, 254, 254, 32)      320       \n",
      "_________________________________________________________________\n",
      "batch_normalization_v1 (Batc (None, 254, 254, 32)      128       \n",
      "_________________________________________________________________\n",
      "conv2d_1 (Conv2D)            (None, 252, 252, 32)      9248      \n",
      "_________________________________________________________________\n",
      "batch_normalization_v1_1 (Ba (None, 252, 252, 32)      128       \n",
      "_________________________________________________________________\n",
      "max_pooling2d (MaxPooling2D) (None, 126, 126, 32)      0         \n",
      "_________________________________________________________________\n",
      "dropout (Dropout)            (None, 126, 126, 32)      0         \n",
      "_________________________________________________________________\n",
      "conv2d_2 (Conv2D)            (None, 124, 124, 64)      18496     \n",
      "_________________________________________________________________\n",
      "batch_normalization_v1_2 (Ba (None, 124, 124, 64)      256       \n",
      "_________________________________________________________________\n",
      "max_pooling2d_1 (MaxPooling2 (None, 62, 62, 64)        0         \n",
      "_________________________________________________________________\n",
      "dropout_1 (Dropout)          (None, 62, 62, 64)        0         \n",
      "_________________________________________________________________\n",
      "conv2d_3 (Conv2D)            (None, 60, 60, 128)       73856     \n",
      "_________________________________________________________________\n",
      "batch_normalization_v1_3 (Ba (None, 60, 60, 128)       512       \n",
      "_________________________________________________________________\n",
      "max_pooling2d_2 (MaxPooling2 (None, 30, 30, 128)       0         \n",
      "_________________________________________________________________\n",
      "dropout_2 (Dropout)          (None, 30, 30, 128)       0         \n",
      "_________________________________________________________________\n",
      "flatten (Flatten)            (None, 115200)            0         \n",
      "_________________________________________________________________\n",
      "dense (Dense)                (None, 512)               58982912  \n",
      "_________________________________________________________________\n",
      "batch_normalization_v1_4 (Ba (None, 512)               2048      \n",
      "_________________________________________________________________\n",
      "dropout_3 (Dropout)          (None, 512)               0         \n",
      "_________________________________________________________________\n",
      "dense_1 (Dense)              (None, 512)               262656    \n",
      "_________________________________________________________________\n",
      "batch_normalization_v1_5 (Ba (None, 512)               2048      \n",
      "_________________________________________________________________\n",
      "dropout_4 (Dropout)          (None, 512)               0         \n",
      "_________________________________________________________________\n",
      "dense_2 (Dense)              (None, 3)                 1539      \n",
      "=================================================================\n",
      "Total params: 59,354,147\n",
      "Trainable params: 59,351,587\n",
      "Non-trainable params: 2,560\n",
      "_________________________________________________________________\n"
     ]
    }
   ],
   "source": [
    "model=Sequential()\n",
    "model.add(Conv2D(32, kernel_size=(3,3), activation='relu', input_shape=(256,256,1)))\n",
    "model.add(BatchNormalization())\n",
    "\n",
    "model.add(Conv2D(32, kernel_size=(3,3), activation='relu'))\n",
    "model.add(BatchNormalization())         \n",
    "model.add(MaxPooling2D(pool_size=(2,2)))\n",
    "model.add(Dropout(0.25))\n",
    "\n",
    "model.add(Conv2D(64, kernel_size=(3,3), activation='relu'))\n",
    "model.add(BatchNormalization())        \n",
    "model.add(MaxPooling2D(pool_size=(2,2)))\n",
    "model.add(Dropout(0.25))\n",
    "         \n",
    "model.add(Conv2D(128, kernel_size=(3,3), activation='relu'))\n",
    "model.add(BatchNormalization())        \n",
    "model.add(MaxPooling2D(pool_size=(2,2)))\n",
    "model.add(Dropout(0.25))\n",
    "         \n",
    "model.add(Flatten())\n",
    "  \n",
    "model.add(Dense(512, activation='relu'))\n",
    "model.add(BatchNormalization())         \n",
    "model.add(Dropout(0.5))\n",
    "         \n",
    "\n",
    "model.add(Dense(512, activation='relu'))\n",
    "model.add(BatchNormalization())         \n",
    "model.add(Dropout(0.5))         \n",
    "     \n",
    "model.add(Dense(3,activation='softmax'))         \n",
    "model.summary()"
   ]
  },
  {
   "cell_type": "code",
   "execution_count": 48,
   "metadata": {},
   "outputs": [],
   "source": [
    "model.compile(loss=keras.losses.sparse_categorical_crossentropy,\n",
    "             optimizer=keras.optimizers.Adam(),\n",
    "             metrics=['accuracy'])"
   ]
  },
  {
   "cell_type": "code",
   "execution_count": 49,
   "metadata": {},
   "outputs": [
    {
     "name": "stdout",
     "output_type": "stream",
     "text": [
      "_________________________________________________________________\n",
      "Layer (type)                 Output Shape              Param #   \n",
      "=================================================================\n",
      "conv2d (Conv2D)              (None, 254, 254, 32)      320       \n",
      "_________________________________________________________________\n",
      "batch_normalization_v1 (Batc (None, 254, 254, 32)      128       \n",
      "_________________________________________________________________\n",
      "conv2d_1 (Conv2D)            (None, 252, 252, 32)      9248      \n",
      "_________________________________________________________________\n",
      "batch_normalization_v1_1 (Ba (None, 252, 252, 32)      128       \n",
      "_________________________________________________________________\n",
      "max_pooling2d (MaxPooling2D) (None, 126, 126, 32)      0         \n",
      "_________________________________________________________________\n",
      "dropout (Dropout)            (None, 126, 126, 32)      0         \n",
      "_________________________________________________________________\n",
      "conv2d_2 (Conv2D)            (None, 124, 124, 64)      18496     \n",
      "_________________________________________________________________\n",
      "batch_normalization_v1_2 (Ba (None, 124, 124, 64)      256       \n",
      "_________________________________________________________________\n",
      "max_pooling2d_1 (MaxPooling2 (None, 62, 62, 64)        0         \n",
      "_________________________________________________________________\n",
      "dropout_1 (Dropout)          (None, 62, 62, 64)        0         \n",
      "_________________________________________________________________\n",
      "conv2d_3 (Conv2D)            (None, 60, 60, 128)       73856     \n",
      "_________________________________________________________________\n",
      "batch_normalization_v1_3 (Ba (None, 60, 60, 128)       512       \n",
      "_________________________________________________________________\n",
      "max_pooling2d_2 (MaxPooling2 (None, 30, 30, 128)       0         \n",
      "_________________________________________________________________\n",
      "dropout_2 (Dropout)          (None, 30, 30, 128)       0         \n",
      "_________________________________________________________________\n",
      "flatten (Flatten)            (None, 115200)            0         \n",
      "_________________________________________________________________\n",
      "dense (Dense)                (None, 512)               58982912  \n",
      "_________________________________________________________________\n",
      "batch_normalization_v1_4 (Ba (None, 512)               2048      \n",
      "_________________________________________________________________\n",
      "dropout_3 (Dropout)          (None, 512)               0         \n",
      "_________________________________________________________________\n",
      "dense_1 (Dense)              (None, 512)               262656    \n",
      "_________________________________________________________________\n",
      "batch_normalization_v1_5 (Ba (None, 512)               2048      \n",
      "_________________________________________________________________\n",
      "dropout_4 (Dropout)          (None, 512)               0         \n",
      "_________________________________________________________________\n",
      "dense_2 (Dense)              (None, 3)                 1539      \n",
      "=================================================================\n",
      "Total params: 59,354,147\n",
      "Trainable params: 59,351,587\n",
      "Non-trainable params: 2,560\n",
      "_________________________________________________________________\n"
     ]
    }
   ],
   "source": [
    "model.summary()"
   ]
  },
  {
   "cell_type": "code",
   "execution_count": 24,
   "metadata": {},
   "outputs": [
    {
     "name": "stdout",
     "output_type": "stream",
     "text": [
      "2\n",
      "2\n"
     ]
    }
   ],
   "source": []
  },
  {
   "cell_type": "code",
   "execution_count": null,
   "metadata": {},
   "outputs": [
    {
     "name": "stdout",
     "output_type": "stream",
     "text": [
      "Train on 2193 samples, validate on 868 samples\n",
      "WARNING:tensorflow:From C:\\New folder\\envs\\py36\\lib\\site-packages\\tensorflow\\python\\ops\\math_ops.py:3066: to_int32 (from tensorflow.python.ops.math_ops) is deprecated and will be removed in a future version.\n",
      "Instructions for updating:\n",
      "Use tf.cast instead.\n",
      "Epoch 1/3\n"
     ]
    }
   ],
   "source": [
    "history= model.fit(train_data, train_label, batch_size=32, epochs=3, validation_data=(test_data, test_label))"
   ]
  },
  {
   "cell_type": "code",
   "execution_count": null,
   "metadata": {},
   "outputs": [],
   "source": [
    "#evaluating the model\n",
    "test_loss, test_acc = model.evaluate(test_data,  test_label, verbose=2)\n",
    "print(test_acc)"
   ]
  },
  {
   "cell_type": "code",
   "execution_count": null,
   "metadata": {},
   "outputs": [],
   "source": [
    "model.save(\"covid19_cnn4_model.h5\")"
   ]
  },
  {
   "cell_type": "code",
   "execution_count": 16,
   "metadata": {},
   "outputs": [
    {
     "name": "stdout",
     "output_type": "stream",
     "text": [
      "(2, 2, 2)\n",
      "(2, 2, 2)\n",
      "(4, 2, 2)\n",
      "[[[2 4]\n",
      "  [4 3]]\n",
      "\n",
      " [[4 7]\n",
      "  [6 8]]\n",
      "\n",
      " [[2 4]\n",
      "  [4 3]]\n",
      "\n",
      " [[4 7]\n",
      "  [6 8]]]\n"
     ]
    }
   ],
   "source": []
  },
  {
   "cell_type": "code",
   "execution_count": 1,
   "metadata": {},
   "outputs": [],
   "source": [
    "import pandas as pd\n",
    "import numpy as np\n",
    "\n",
    "data=pd.read_csv('covid_testdata.csv')"
   ]
  },
  {
   "cell_type": "code",
   "execution_count": 2,
   "metadata": {},
   "outputs": [
    {
     "name": "stdout",
     "output_type": "stream",
     "text": [
      "(867, 256)\n"
     ]
    }
   ],
   "source": [
    "data=np.array(data)\n",
    "print(data.shape)"
   ]
  },
  {
   "cell_type": "code",
   "execution_count": 44,
   "metadata": {},
   "outputs": [
    {
     "name": "stdout",
     "output_type": "stream",
     "text": [
      "(256,)\n"
     ]
    }
   ],
   "source": [
    "print(data[1][:].shape)"
   ]
  },
  {
   "cell_type": "code",
   "execution_count": null,
   "metadata": {},
   "outputs": [],
   "source": []
  }
 ],
 "metadata": {
  "kernelspec": {
   "display_name": "Python 3",
   "language": "python",
   "name": "python3"
  },
  "language_info": {
   "codemirror_mode": {
    "name": "ipython",
    "version": 3
   },
   "file_extension": ".py",
   "mimetype": "text/x-python",
   "name": "python",
   "nbconvert_exporter": "python",
   "pygments_lexer": "ipython3",
   "version": "3.6.9"
  }
 },
 "nbformat": 4,
 "nbformat_minor": 2
}
